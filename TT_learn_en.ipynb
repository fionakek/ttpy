{
  "cells": [
    {
      "cell_type": "markdown",
      "metadata": {
        "id": "view-in-github",
        "colab_type": "text"
      },
      "source": [
        "<a href=\"https://colab.research.google.com/github/fionakek/ttpy/blob/main/TT_learn_en.ipynb\" target=\"_parent\"><img src=\"https://colab.research.google.com/assets/colab-badge.svg\" alt=\"Open In Colab\"/></a>"
      ]
    },
    {
      "cell_type": "code",
      "execution_count": null,
      "metadata": {
        "colab": {
          "base_uri": "https://localhost:8080/"
        },
        "id": "46A7zCb2xzZc",
        "outputId": "c3859cf5-c6e6-4c76-9636-6d07412c4eef"
      },
      "outputs": [
        {
          "output_type": "stream",
          "name": "stdout",
          "text": [
            "Looking in indexes: https://pypi.org/simple, https://us-python.pkg.dev/colab-wheels/public/simple/\n",
            "Collecting ttpy\n",
            "  Downloading ttpy-1.2.1.tar.gz (317 kB)\n",
            "\u001b[K     |████████████████████████████████| 317 kB 4.1 MB/s \n",
            "\u001b[?25hBuilding wheels for collected packages: ttpy\n",
            "  Building wheel for ttpy (setup.py) ... \u001b[?25l\u001b[?25hdone\n",
            "  Created wheel for ttpy: filename=ttpy-1.2.1-cp37-cp37m-linux_x86_64.whl size=2964830 sha256=7d38d00b33c0afc663ae72421024951cb0eac40141501abc75b8f66d79310d9b\n",
            "  Stored in directory: /root/.cache/pip/wheels/1c/45/02/9593e1923b244554f33e29be39b1413772acac8c8a1ba30596\n",
            "Successfully built ttpy\n",
            "Installing collected packages: ttpy\n",
            "Successfully installed ttpy-1.2.1\n"
          ]
        }
      ],
      "source": [
        "pip install ttpy"
      ]
    },
    {
      "cell_type": "code",
      "execution_count": null,
      "metadata": {
        "id": "j-qeHM3Qxxuy"
      },
      "outputs": [],
      "source": [
        "import numpy as np\n",
        "import tt\n",
        "from tt.optimize import tt_min\n",
        "from scipy.optimize import rosen\n",
        "import matplotlib.pyplot as plt\n",
        "from tt.cross import rect_cross\n",
        "from tt.amen import amen_solve"
      ]
    },
    {
      "cell_type": "markdown",
      "source": [
        "# Vector generation and its printing"
      ],
      "metadata": {
        "id": "guRqR4pyfy6D"
      }
    },
    {
      "cell_type": "code",
      "execution_count": null,
      "metadata": {
        "colab": {
          "base_uri": "https://localhost:8080/"
        },
        "id": "R_hOhcqhzBfc",
        "outputId": "410ae5f2-3c8a-4679-ad1c-f9707ce92c91"
      },
      "outputs": [
        {
          "output_type": "stream",
          "name": "stdout",
          "text": [
            "[[0. 0. 0. 0.]\n",
            " [0. 1. 0. 0.]\n",
            " [0. 0. 2. 0.]\n",
            " [0. 0. 0. 3.]]\n"
          ]
        }
      ],
      "source": [
        "x = tt.xfun(2, 2) #generation of vector [0, 1, 2, 3] in QTT format\n",
        "print(tt.diag(x).full())"
      ]
    },
    {
      "cell_type": "markdown",
      "metadata": {
        "id": "aLEMm-Mq_SvI"
      },
      "source": [
        "# Represent the square root function in QTT format"
      ]
    },
    {
      "cell_type": "code",
      "execution_count": null,
      "metadata": {
        "colab": {
          "base_uri": "https://localhost:8080/",
          "height": 282
        },
        "id": "dtNCrR389sly",
        "outputId": "2d6207f3-1b79-449a-bbd9-b0b9712850d6"
      },
      "outputs": [
        {
          "output_type": "display_data",
          "data": {
            "text/plain": [
              "<Figure size 432x288 with 1 Axes>"
            ],
            "image/png": "[encoded data removed]"
          },
          "metadata": {
            "needs_background": "light"
          }
        },
        {
          "output_type": "stream",
          "name": "stdout",
          "text": [
            "Ranks: [1 2 4 5 5 5 5 5 4 2 1]\n"
          ]
        }
      ],
      "source": [
        "d = 10 #number of QTT-cores\n",
        "n = 2 ** d #number of discretization points\n",
        "\n",
        "b = 30 # [0, b] - interval on which we consider the function\n",
        "h = b / (n - 1) # discretization step\n",
        "\n",
        "# argument in QTT-format\n",
        "x = h * tt.xfun(2, d) \n",
        "\n",
        "#define the function f\n",
        "f = lambda x : np.sqrt(x)\n",
        "\n",
        "#approximation f(x) = sqrt(x) via QTT with tolerance = 1e-6 using tt-cross\n",
        "y = tt.multifuncrs([x], lambda x: np.sqrt(x) , 1e-6, verb = False) \n",
        "\n",
        "\n",
        "#Checking\n",
        "points = []\n",
        "correct_points = []\n",
        "tt_points = []\n",
        "\n",
        "for i in range(n):\n",
        "  points.append(i * h)\n",
        "  correct_points.append(f(i * h))\n",
        "  tt_points.append(tt.dot(y, tt.delta(2, d = d, center = i )))\n",
        "  \n",
        "\n",
        "#Plots are the same\n",
        "plt.plot(points, correct_points)\n",
        "plt.plot(points, tt_points)\n",
        "plt.show()\n",
        "\n",
        "#print ranks\n",
        "print('Ranks:', y.r)"
      ]
    },
    {
      "cell_type": "markdown",
      "metadata": {
        "id": "lQF4dR-nAWre"
      },
      "source": [
        "# Integrate this function on the interval"
      ]
    },
    {
      "cell_type": "markdown",
      "source": [
        "$\\int_0^b \\sqrt{x} dx = (y, e)$"
      ],
      "metadata": {
        "id": "MYteWZyLwH-C"
      }
    },
    {
      "cell_type": "code",
      "execution_count": null,
      "metadata": {
        "colab": {
          "base_uri": "https://localhost:8080/"
        },
        "id": "ROT3TlU8Aakg",
        "outputId": "5283ad2d-ef64-4753-80a0-8c3d927f4b86"
      },
      "outputs": [
        {
          "output_type": "stream",
          "name": "stdout",
          "text": [
            "TT_int: 109.62378528388167\n",
            "Correct value: 109.54451150103323\n"
          ]
        }
      ],
      "source": [
        "#unit vector in QTT format\n",
        "e = tt.ones(2, d) \n",
        "\n",
        "#find the integral as scalar product\n",
        "TT_int = tt.dot(y, e) * h\n",
        "\n",
        "print('TT_int:',TT_int)\n",
        "print('Correct value:', b * np.sqrt(b) / 1.5 )"
      ]
    },
    {
      "cell_type": "markdown",
      "source": [
        "# Integrate a high-dimensional function"
      ],
      "metadata": {
        "id": "huvifc1Y5Q4K"
      }
    },
    {
      "cell_type": "markdown",
      "source": [
        "$(2 \\pi)^{d / 2} \\sqrt{\\operatorname{det} C} = \\int_{\\mathbb{R}^{d}} e^{-(1 / 2) \\mathbf{x}^{T} C^{-1} \\mathbf{x}} d \\mathbf{x} \\simeq  \\int_{[-a, a]^{d}} e^{-(1 / 2) \\mathbf{x}^{T} C^{-1} \\mathbf{x}} d \\mathbf{x}  $"
      ],
      "metadata": {
        "id": "_3wcmNxl5UOb"
      }
    },
    {
      "cell_type": "markdown",
      "source": [
        "$C=\\left(\\begin{array}{ccccc}\n",
        "1 & 1 & 1 & \\cdots & 1 \\\\\n",
        "1 & 2 & 2 & \\cdots & 2 \\\\\n",
        "\\vdots & \\vdots & \\vdots & \\ddots & \\vdots \\\\\n",
        "1 & 2 & 3 & \\cdots & d\n",
        "\\end{array}\\right)$"
      ],
      "metadata": {
        "id": "WUb0Xqi46AmC"
      }
    },
    {
      "cell_type": "code",
      "source": [
        "def C_matrix(d):\n",
        "    C = np.zeros((d, d))\n",
        "    for i in range(d):\n",
        "        for j in range(d):\n",
        "            C[i, j] = min(i, j) + 1\n",
        "    return C"
      ],
      "metadata": {
        "id": "0htPbr165Qbb"
      },
      "execution_count": null,
      "outputs": []
    },
    {
      "cell_type": "code",
      "source": [
        "def tt_gaus_sample(x, C_inv):\n",
        "  # x is np.array of shape [n_samples, d]\n",
        "  # this function should return array of function values in all samples, i.e. return size = n_samples \n",
        "  return np.exp(np.einsum('ij,jk,ik->i', x, -0.5  * C_inv, x))"
      ],
      "metadata": {
        "id": "Ow6z4Q8v6Zjp"
      },
      "execution_count": null,
      "outputs": []
    },
    {
      "cell_type": "code",
      "source": [
        "d = 5 #dimension\n",
        "n = 50 #discretization in one axis\n",
        "tol = 1e-5 #tollerance\n",
        "a = 20 #interval size\n",
        "\n",
        "gridfun = lambda ind: ind*2*a/n - a \n",
        "\n",
        "C = C_matrix(d)\n",
        "C_inv = np.linalg.inv(C)\n",
        "\n",
        "tt_gaus = rect_cross.cross(lambda arg: tt_gaus_sample(gridfun(arg), C_inv), tt.rand(n, d, r = 10), nswp = 10, eps=tol, kickrank=5, rf=1, verbose= True) \n",
        "\n",
        "tt_gaus = tt_gaus.round(tol)\n",
        "print(tt_gaus.r)"
      ],
      "metadata": {
        "colab": {
          "base_uri": "https://localhost:8080/"
        },
        "id": "ezt03m6g643L",
        "outputId": "35d1d646-6b35-4394-d2ce-d739f936be51"
      },
      "execution_count": null,
      "outputs": [
        {
          "output_type": "stream",
          "name": "stdout",
          "text": [
            "swp: 0/9 er_rel = 5.0e+05 er_abs = 1.7e+06 erank = 20.0 fun_eval: 70500\n",
            "swp: 1/9 er_rel = 8.6e-01 er_abs = 6.3e+00 erank = 30.2 fun_eval: 264250\n",
            "swp: 2/9 er_rel = 1.8e-02 er_abs = 1.3e-01 erank = 40.2 fun_eval: 642350\n",
            "swp: 3/9 er_rel = 6.4e-11 er_abs = 4.7e-10 erank = 50.3 fun_eval: 1263450\n",
            "[ 1 11 15 19 22  1]\n"
          ]
        }
      ]
    },
    {
      "cell_type": "code",
      "source": [
        "#integration\n",
        "h = 2 * a / n # grid step-size\n",
        "tt_answer = tt.dot(tt_gaus, tt.ones(n, d)) * h**d\n",
        "correct_answer = (2 * np.pi)**(d/2) * np.sqrt(np.linalg.det(C))\n",
        "print('tt_answer:', tt_answer)\n",
        "print('correct_answer:', correct_answer)"
      ],
      "metadata": {
        "colab": {
          "base_uri": "https://localhost:8080/"
        },
        "id": "M6GoALi97koL",
        "outputId": "b0b3ea1f-7e1d-494d-eda5-f9b8ce808e46"
      },
      "execution_count": null,
      "outputs": [
        {
          "output_type": "stream",
          "name": "stdout",
          "text": [
            "tt_answer: 98.95737551847299\n",
            "correct_answer: 98.95771780477259\n"
          ]
        }
      ]
    },
    {
      "cell_type": "markdown",
      "source": [
        "# QTT integration"
      ],
      "metadata": {
        "id": "ynAhnKSk8OnX"
      }
    },
    {
      "cell_type": "code",
      "source": [
        "def qtt_gaus_sample(ind, C_inv):\n",
        "\n",
        "    nsim = ind.shape[0]\n",
        "\n",
        "    # Translation from binary to decimal\n",
        "    ind = np.array(ind, dtype=int)\n",
        "    lifting_sizes = np.roll(np.repeat(2,q),1)  # vectorised ravel_multi_index\n",
        "    lifting_sizes[0] = 1  \n",
        "    lifting_sizes = np.cumprod(lifting_sizes)\n",
        "\n",
        "    x = np.zeros((nsim, d))\n",
        "    for i in range(d):\n",
        "         x[:, i] = np.sum(ind[:,i * q: (i + 1) * q] * lifting_sizes, axis=1) * 2*a / 2**q - a # Global indices in x[i]\n",
        "\n",
        "    return np.exp(np.einsum('ij,jk,ik->i', x, -0.5  * C_inv, x))"
      ],
      "metadata": {
        "id": "XBB76kom8Qi_"
      },
      "execution_count": null,
      "outputs": []
    },
    {
      "cell_type": "code",
      "source": [
        "def qtt_func(ind):\n",
        "\n",
        "    nsim = ind.shape[0]\n",
        "\n",
        "    # Translation from binary to decimal\n",
        "    ind = np.array(ind, dtype=int)\n",
        "    lifting_sizes = np.roll(np.repeat(2,q),1)  # vectorised ravel_multi_index\n",
        "    lifting_sizes[0] = 1  \n",
        "    lifting_sizes = np.cumprod(lifting_sizes)\n",
        "\n",
        "    x = np.zeros((nsim, 1))\n",
        "    \n",
        "    x = np.sum(ind[:,i * q: (i + 1) * q] * lifting_sizes, axis=1) * 2*a / 2**q - a # Global indices in x[i]\n",
        "\n",
        "    return np.exp(-x**2)\n",
        "\n",
        "qtt_func = rect_cross.cross(lambda arg: qtt_func(arg, C_inv), # target function\n",
        "                                          tt.rand(2, d*q), # initial approximation\n",
        "                                          nswp = 10, # number of sweeps \n",
        "                                          eps=tol, # tolerance\n",
        "                                          kickrank=5, # how the rank is increased during the solution\n",
        "                                          rf=1, # rank dynamics\n",
        "                                          verbose= True # Printing the intermediate results\n",
        "                                         ) "
      ],
      "metadata": {
        "id": "8gW2K7he0cAW"
      },
      "execution_count": null,
      "outputs": []
    },
    {
      "cell_type": "code",
      "source": [
        "d = 5 #dimension\n",
        "q = 7 # 2**q is the discretization in one axis\n",
        "tol = 1e-5 #tollerance\n",
        "a = 20 #interval size\n",
        "\n",
        "gridfun = lambda ind: ind*2*a/n - a \n",
        "\n",
        "C = C_matrix(d)\n",
        "C_inv = np.linalg.inv(C)\n",
        "\n",
        "qtt_gaus = rect_cross.cross(lambda arg: qtt_gaus_sample(arg, C_inv), # target function\n",
        "                                          tt.rand(2, d*q), # initial approximation\n",
        "                                          nswp = 10, # number of sweeps \n",
        "                                          eps=tol, # tolerance\n",
        "                                          kickrank=5, # how the rank is increased during the solution\n",
        "                                          rf=1, # rank dynamics\n",
        "                                          verbose= True # Printing the intermediate results\n",
        "                                         ) \n",
        "\n",
        "qtt_gaus = qtt_gaus.round(tol)\n",
        "print(qtt_gaus.r)"
      ],
      "metadata": {
        "colab": {
          "base_uri": "https://localhost:8080/"
        },
        "id": "TO2zKNfv80nB",
        "outputId": "b14fad71-67b9-4b6f-e7c2-efd2649917a2"
      },
      "execution_count": null,
      "outputs": [
        {
          "output_type": "stream",
          "name": "stdout",
          "text": [
            "swp: 0/9 er_rel = 2.0e+12 er_abs = 1.2e+09 erank = 11.4 fun_eval: 5970\n",
            "swp: 1/9 er_rel = 1.0e+00 er_abs = 3.0e+00 erank = 20.2 fun_eval: 38590\n",
            "swp: 2/9 er_rel = 1.0e+00 er_abs = 4.3e+01 erank = 29.5 fun_eval: 118458\n",
            "swp: 3/9 er_rel = 5.1e-01 er_abs = 2.9e+01 erank = 38.8 fun_eval: 270146\n",
            "swp: 4/9 er_rel = 2.6e-05 er_abs = 1.4e-03 erank = 48.1 fun_eval: 516220\n",
            "swp: 5/9 er_rel = 2.8e-01 er_abs = 1.7e+01 erank = 57.6 fun_eval: 881260\n",
            "swp: 6/9 er_rel = 5.4e-01 er_abs = 3.8e+01 erank = 66.7 fun_eval: 1387360\n",
            "swp: 7/9 er_rel = 4.0e-01 er_abs = 3.1e+01 erank = 75.8 fun_eval: 2052500\n",
            "swp: 8/9 er_rel = 1.5e-02 er_abs = 1.1e+00 erank = 84.9 fun_eval: 2899240\n",
            "swp: 9/9 er_rel = 5.5e-07 er_abs = 4.2e-05 erank = 94.0 fun_eval: 3949780\n",
            "[ 1  2  4  8 14 19 19 15 29 39 36 30 24 24 20 38 48 44 35 28 28 24 46 56\n",
            " 50 39 32 32 28 28 18 10  6  4  2  1]\n"
          ]
        }
      ]
    },
    {
      "cell_type": "code",
      "source": [
        "#integration\n",
        "h = 2 * a / 2**q # grid step-size\n",
        "qtt_answer = tt.dot(qtt_gaus, tt.ones(2, d*q)) * h**d\n",
        "correct_answer = (2 * np.pi)**(d/2) * np.sqrt(np.linalg.det(C))\n",
        "print('qtt_answer:', qtt_answer)\n",
        "print('correct_answer:', correct_answer)"
      ],
      "metadata": {
        "colab": {
          "base_uri": "https://localhost:8080/"
        },
        "id": "M9_rARb09jm3",
        "outputId": "0c69fe5a-4c7c-44b7-ac8d-83e45a8ed6cc"
      },
      "execution_count": null,
      "outputs": [
        {
          "output_type": "stream",
          "name": "stdout",
          "text": [
            "qtt_answer: 98.95753940710625\n",
            "correct_answer: 98.95771780477259\n"
          ]
        }
      ]
    },
    {
      "cell_type": "markdown",
      "source": [
        "# Multidimensional function"
      ],
      "metadata": {
        "id": "87K4BFJtPCyD"
      }
    },
    {
      "cell_type": "markdown",
      "source": [
        "$f(x,y,z) = \\frac{\\sin(x + y)}{(1 + z)}$"
      ],
      "metadata": {
        "id": "5sjzv4LmxDjq"
      }
    },
    {
      "cell_type": "code",
      "source": [
        "d = 8 \n",
        "n = 2 ** d #number of discretization points in one axis\n",
        "\n",
        "\n",
        "b = 1 # [0, b]^3 - domain on which we consider the function\n",
        "h = b / (n - 1) #step-size\n",
        "\n",
        "#generation of x\n",
        "x = h * tt.xfun(2, d) \n",
        "e = tt.ones(2, d)\n",
        "\n",
        "X = tt.mkron(x, e, e)\n",
        "Y = tt.mkron(e, x, e)\n",
        "Z = tt.mkron(e, e, x)\n",
        "\n",
        "#sin(x + y) / (1 + z)\n",
        "I = tt.multifuncrs([X, Y, Z], lambda arg: np.sin((arg[:,0] + arg[:,1])) / ( 1 + np.exp(arg[:,2]) )  , 1e-6, verb = True) \n",
        "\n",
        "I = I.round(1e-6)\n",
        "print('Ranks', I.r)"
      ],
      "metadata": {
        "colab": {
          "base_uri": "https://localhost:8080/"
        },
        "id": "X4Ebnn7xPIEx",
        "outputId": "ecadfe57-805b-4514-f2a7-dc5a37301448"
      },
      "execution_count": null,
      "outputs": [
        {
          "output_type": "stream",
          "name": "stdout",
          "text": [
            "=multifuncrs= sweep 1{2}, max_dy: 1.527e+01, erank: 1.95789\n",
            "=multifuncrs= sweep 2{1}, max_dy: 1.353e-01, erank: 3.59977\n",
            "=multifuncrs= sweep 2{2}, max_dy: 1.353e-01, erank: 4.8734\n",
            "=multifuncrs= sweep 3{1}, max_dy: 6.017e-08, erank: 6.01041\n",
            "=multifuncrs= sweep 3{2}, max_dy: 6.017e-08, erank: 6.09303\n",
            "=multifuncrs= sweep 4{1}, max_dy: 0.000e+00, erank: 2.11148\n",
            "Ranks [1 2 2 2 2 2 2 2 2 2 2 2 2 2 2 2 1 2 2 3 3 3 3 2 1]\n"
          ]
        }
      ]
    },
    {
      "cell_type": "markdown",
      "source": [
        "# Solution of a linear system of equations"
      ],
      "metadata": {
        "id": "rbrWcEmom2Ks"
      }
    },
    {
      "cell_type": "markdown",
      "source": [
        "$ u(x)'' = 1$ on interval $[0,1]$ and zero boundary-conditions $u(0) = 0, u(1) = 0$"
      ],
      "metadata": {
        "id": "5I0KgObhyxpA"
      }
    },
    {
      "cell_type": "code",
      "source": [
        "#reduce it to the system of linear equations Ax = b \n",
        "\n",
        "d = 10 # 2^d - matrix size (discretization of the interval)\n",
        "\n",
        "A = tt.qlaplace_dd([d]) #creating a matrix in MPO format\n",
        "b = tt.ones(2, d) #creating right-hand side\n",
        "\n",
        "y = amen_solve(A,b,b,1e-6) #A, b, initial prediction, accuracy\n",
        "  \n",
        "print('error:', (tt.matvec(A, y) - b).norm() / b.norm())"
      ],
      "metadata": {
        "id": "7__Tr0tKnISe",
        "colab": {
          "base_uri": "https://localhost:8080/"
        },
        "outputId": "7de888b4-637e-4b70-cf41-b9059c175fd1"
      },
      "execution_count": null,
      "outputs": [
        {
          "output_type": "stream",
          "name": "stdout",
          "text": [
            "error: 1.716510042201314e-07\n"
          ]
        }
      ]
    },
    {
      "cell_type": "markdown",
      "metadata": {
        "id": "bV1sJB6VSSiS"
      },
      "source": [
        "# Optimization of function"
      ]
    },
    {
      "cell_type": "markdown",
      "source": [
        "$f(x, y) = (x - 1)^2 + y^2$"
      ],
      "metadata": {
        "id": "UY9No_CUz62M"
      }
    },
    {
      "cell_type": "code",
      "execution_count": null,
      "metadata": {
        "colab": {
          "base_uri": "https://localhost:8080/"
        },
        "id": "n3IGfmZwEoJd",
        "outputId": "a40f8b38-1ec2-490c-a705-d71b7cd4694a"
      },
      "outputs": [
        {
          "output_type": "stream",
          "name": "stdout",
          "text": [
            "TT: [1. 0.] 0.0\n",
            "correct: [1, 0] 0\n"
          ]
        }
      ],
      "source": [
        "#define a function to minimize\n",
        "def square(x):\n",
        "  #x has shape [number of samples, 2]\n",
        "  if len(x.shape) > 1:\n",
        "    res = (x[:, 0] - 1)**2 + x[:, 1]**2 \n",
        "  else:\n",
        "    res = (x[0] - 1)**2 + x[1]**2 \n",
        "  return res\n",
        "\n",
        "#minimum at point [1, 0]\n",
        "\n",
        "bounds_min = -2 #lower bound of the interval on which we minimize [-2, 2]\n",
        "bounds_max = 2 #upper bound of the interval on which we minimize [-2, 2]\n",
        "\n",
        "d = 2 #dimension of space\n",
        "n0 = 5 #the number of points taken on each of the axes i.e. [-2, -1, 0, 1, 2]\n",
        "\n",
        "rmax = 3 #the maximum rank for approximation the function in terms of MPS (the more - the better the minimum, but the running time is scaled as rmax^2)\n",
        "nswp = 5 #the number of iterations (as in gradient descent)\n",
        "\n",
        "\n",
        "val, x_full = tt_min.min_func(lambda arg: square(arg), bounds_min = -2, bounds_max = 2, d=2, rmax=5, n0 = 5, nswp=5, verb= False, smooth_fun= None)\n",
        "\n",
        "print('TT:', x_full, val)\n",
        "print('correct:', [1, 0], 0)"
      ]
    },
    {
      "cell_type": "code",
      "execution_count": null,
      "metadata": {
        "colab": {
          "base_uri": "https://localhost:8080/"
        },
        "id": "JAuyrgW3djiX",
        "outputId": "5082729d-975d-4568-f10c-74b936eedd18"
      },
      "outputs": [
        {
          "output_type": "stream",
          "name": "stdout",
          "text": [
            "[1. 1. 1. 1. 1. 1. 1. 1. 1. 1.] 0.0\n",
            "correct answer is [1 1 ... 1] and value is 0\n"
          ]
        }
      ],
      "source": [
        "#minimizing the Rosenbrock function\n",
        "#the correct answer is all ones\n",
        "\n",
        "def my_rosen(x):  \n",
        "  return rosen(x.T) \n",
        "\n",
        "def my_fun(f, x):\n",
        "  if(len(x.shape) == 1):\n",
        "    return f(x)\n",
        "  return np.array([f(i) for i in x])\n",
        "\n",
        "#minimization on the interval [-5, 5]\n",
        "bounds_min = -5\n",
        "bounds_max = 5\n",
        "\n",
        "#10 variables\n",
        "d = 10\n",
        "\n",
        "# rank\n",
        "rmax=10\n",
        "\n",
        "#the number of sampling points on each of the axes\n",
        "n0 = 11\n",
        "#number of iterations\n",
        "nswp= 5\n",
        "\n",
        "val, x_full = tt_min.min_func(fun = lambda x: my_fun(my_rosen, x), bounds_min = -5, bounds_max = 5, d = 10, rmax=10, n0 = 11, nswp= 5, verb= False, smooth_fun= None)\n",
        "print(x_full, val)\n",
        "\n",
        "print('correct answer is [1 1 ... 1] and value is 0')"
      ]
    },
    {
      "cell_type": "markdown",
      "source": [
        "# Find ranks of a tensor"
      ],
      "metadata": {
        "id": "5oHSrRQGffGr"
      }
    },
    {
      "cell_type": "code",
      "source": [
        "n = 20\n",
        "d = 3\n",
        "tol = 1e-6\n",
        "A = np.random.normal(size = [n] * d)\n",
        "\n",
        "print(A.shape)"
      ],
      "metadata": {
        "colab": {
          "base_uri": "https://localhost:8080/"
        },
        "id": "KujsQFJ-fiVz",
        "outputId": "47e51c7b-5f86-4b81-9ba8-f44677fb553e"
      },
      "execution_count": null,
      "outputs": [
        {
          "output_type": "stream",
          "name": "stdout",
          "text": [
            "(20, 20, 20)\n"
          ]
        }
      ]
    },
    {
      "cell_type": "code",
      "source": [
        "abc = [1, 2, 3]\n",
        "print(A[tuple(abc)])\n",
        "print(A[1, 2, 3])"
      ],
      "metadata": {
        "colab": {
          "base_uri": "https://localhost:8080/"
        },
        "id": "zPex6Kd6iKYv",
        "outputId": "691e486f-ffaa-48bd-9407-7d29dd6922c3"
      },
      "execution_count": null,
      "outputs": [
        {
          "output_type": "stream",
          "name": "stdout",
          "text": [
            "-2.1822811627918113\n",
            "-2.1822811627918113\n"
          ]
        }
      ]
    },
    {
      "cell_type": "code",
      "source": [
        "def tt_sample(ind, A):\n",
        "  ind = np.array(ind, dtype=int)\n",
        "  N = ind.shape[0]\n",
        "\n",
        "  Q = np.zeros(N)\n",
        "  for i in np.arange(N):\n",
        "   # print(ind[i])\n",
        "    Q[i] = A[tuple(ind[i])]\n",
        "  print(Q)\n",
        "  return Q"
      ],
      "metadata": {
        "id": "52fqoHiof638"
      },
      "execution_count": null,
      "outputs": []
    },
    {
      "cell_type": "code",
      "source": [
        "from tt.cross import rect_cross\n",
        "\n",
        "tt_format = rect_cross.cross(lambda arg: tt_sample(arg, A), tt.rand(n, d), eps=tol, kickrank=1, rf=1, verbose= True)\n",
        "\n",
        "print(tt_format.r)"
      ],
      "metadata": {
        "colab": {
          "base_uri": "https://localhost:8080/"
        },
        "id": "dN95sTzYhIfa",
        "outputId": "7d72ac58-c204-453f-ca68-54a3caf49c22"
      },
      "execution_count": null,
      "outputs": [
        {
          "output_type": "stream",
          "name": "stdout",
          "text": [
            "swp: 0/9 er_rel = 5.2e+00 er_abs = 1.7e+02 erank = 4.5 fun_eval: 660\n",
            "swp: 1/9 er_rel = 9.9e-01 er_abs = 5.0e+01 erank = 7.9 fun_eval: 2560\n",
            "swp: 2/9 er_rel = 1.1e+00 er_abs = 7.4e+01 erank = 11.4 fun_eval: 6860\n",
            "swp: 3/9 er_rel = 9.4e-01 er_abs = 7.9e+01 erank = 15.4 fun_eval: 15140\n",
            "swp: 4/9 er_rel = 9.0e-01 er_abs = 8.0e+01 erank = 19.0 fun_eval: 28380\n",
            "swp: 5/9 er_rel = 6.1e-01 er_abs = 5.4e+01 erank = 20.5 fun_eval: 45240\n",
            "swp: 6/9 er_rel = 2.6e-01 er_abs = 2.4e+01 erank = 21.0 fun_eval: 62980\n",
            "swp: 7/9 er_rel = 7.1e-16 er_abs = 6.3e-14 erank = 21.0 fun_eval: 80740\n",
            "[ 1 22 20  1]\n"
          ]
        }
      ]
    }
  ],
  "metadata": {
    "colab": {
      "collapsed_sections": [
        "aLEMm-Mq_SvI",
        "lQF4dR-nAWre"
      ],
      "provenance": [],
      "include_colab_link": true
    },
    "kernelspec": {
      "display_name": "Python 3",
      "name": "python3"
    },
    "language_info": {
      "name": "python"
    }
  },
  "nbformat": 4,
  "nbformat_minor": 0
}